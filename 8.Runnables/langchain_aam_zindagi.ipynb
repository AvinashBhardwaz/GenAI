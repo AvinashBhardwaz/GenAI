{
 "cells": [
  {
   "cell_type": "code",
   "execution_count": 4,
   "metadata": {
    "id": "g2w84DVb-zZr"
   },
   "outputs": [],
   "source": [
    "import random  # Importing the random module to help pick a random response\n",
    "\n",
    "# Define a dummy class that simulates a Language Model\n",
    "class NakliLLM:\n",
    "\n",
    "    def __init__(self):\n",
    "        # This method runs when an object of NakliLLM is created\n",
    "        print('LLM created')  # Just prints a message for confirmation\n",
    "\n",
    "    def predict(self, prompt):\n",
    "        # This method pretends to process the given prompt\n",
    "        # In real LLMs, the prompt would affect the output\n",
    "\n",
    "        # A list of hardcoded fake responses to simulate LLM output\n",
    "        response_list = [\n",
    "            'Delhi is the capital of India',\n",
    "            'IPL is a cricket league',\n",
    "            'AI stands for Artificial Intelligence'\n",
    "        ]\n",
    "\n",
    "        # Return a dictionary with a random response from the list\n",
    "        return {'response': random.choice(response_list)}"
   ]
  },
  {
   "cell_type": "code",
   "execution_count": 7,
   "metadata": {
    "id": "LSyL1BICA_GY"
   },
   "outputs": [],
   "source": [
    "# Define a custom class for creating prompt templates\n",
    "class NakliPromptTemplate:\n",
    "\n",
    "    # Initialize the class with a template string and the input variables it expects\n",
    "    def __init__(self, template, input_variables):\n",
    "        self.template = template  # Template string, e.g., \"Write a {length} poem about {topic}\"\n",
    "        self.input_variables = input_variables  # List of variable names expected in the template\n",
    "\n",
    "    # Method to format the template using a dictionary of inputs\n",
    "    def format(self, input_dict):\n",
    "        # Uses Python string formatting to substitute input values into the template\n",
    "        return self.template.format(**input_dict)\n",
    "\n",
    "# Create an instance of NakliPromptTemplate with a sample template and expected variables\n",
    "template = NakliPromptTemplate(\n",
    "    template='Write a {length} poem about {topic}',  # Template with placeholders\n",
    "    input_variables=['length', 'topic']  # List of variables used in the template\n",
    ")\n",
    "\n",
    "# Format the template by providing actual values for 'length' and 'topic'\n",
    "prompt = template.format({'length': 'short', 'topic': 'india'})  # Output: \"Write a short poem about india\""
   ]
  },
  {
   "cell_type": "code",
   "execution_count": 8,
   "metadata": {
    "colab": {
     "base_uri": "https://localhost:8080/"
    },
    "id": "KZ8JclUYBmxC",
    "outputId": "183de31c-8482-4a1d-e065-607daa09dd43"
   },
   "outputs": [
    {
     "name": "stdout",
     "output_type": "stream",
     "text": [
      "LLM created\n"
     ]
    }
   ],
   "source": [
    "llm = NakliLLM()  # Creating an instance of the NakliLLM class; this simulates a fake Language Model (LLM)\n",
    "# When initialized, it will print \"LLM created\" to indicate the object was created"
   ]
  },
  {
   "cell_type": "code",
   "execution_count": 10,
   "metadata": {
    "colab": {
     "base_uri": "https://localhost:8080/"
    },
    "id": "hFCYQXUwB-be",
    "outputId": "a024d035-143f-4caa-f0c5-c0fa7f9c9257"
   },
   "outputs": [
    {
     "data": {
      "text/plain": [
       "{'response': 'Delhi is the capital of India'}"
      ]
     },
     "execution_count": 10,
     "metadata": {},
     "output_type": "execute_result"
    }
   ],
   "source": [
    "llm.predict(prompt)  # Calling the `predict` method of NakliLLM with the formatted prompt\n",
    "# It randomly picks a response from a predefined list and returns it as a dictionary like {'response': '...'}"
   ]
  },
  {
   "cell_type": "code",
   "execution_count": 11,
   "metadata": {
    "id": "SGzmKwmDDOfe"
   },
   "outputs": [],
   "source": [
    "# A custom class to simulate a LangChain-style LLMChain\n",
    "class NakliLLMChain:\n",
    "\n",
    "    # Constructor takes in a mock LLM and a prompt template\n",
    "    def __init__(self, llm, prompt):\n",
    "        self.llm = llm               # Save the mock LLM object\n",
    "        self.prompt = prompt         # Save the custom prompt template\n",
    "\n",
    "    # Method to run the LLMChain with some inputs\n",
    "    def run(self, input_dict):\n",
    "\n",
    "        # Step 1: Format the prompt using the provided input values\n",
    "        final_prompt = self.prompt.format(input_dict)\n",
    "\n",
    "        # Step 2: Use the mock LLM to generate a response\n",
    "        result = self.llm.predict(final_prompt)\n",
    "\n",
    "        # Step 3: Return just the text response (not the full dictionary)\n",
    "        return result['response']"
   ]
  },
  {
   "cell_type": "code",
   "execution_count": 12,
   "metadata": {
    "id": "v2OAM5RLE0YS"
   },
   "outputs": [],
   "source": [
    "template = NakliPromptTemplate(\n",
    "    template='Write a {length} poem about {topic}',\n",
    "    input_variables=['length', 'topic']\n",
    ")"
   ]
  },
  {
   "cell_type": "code",
   "execution_count": 13,
   "metadata": {
    "colab": {
     "base_uri": "https://localhost:8080/"
    },
    "id": "uOSTUUlrE3l-",
    "outputId": "2cf4e476-e722-46bf-acfd-464f67faaa28"
   },
   "outputs": [
    {
     "name": "stdout",
     "output_type": "stream",
     "text": [
      "LLM created\n"
     ]
    }
   ],
   "source": [
    "llm = NakliLLM()"
   ]
  },
  {
   "cell_type": "code",
   "execution_count": 14,
   "metadata": {
    "id": "RB_pfYqvE5mT"
   },
   "outputs": [],
   "source": [
    "chain = NakliLLMChain(llm, template)"
   ]
  },
  {
   "cell_type": "code",
   "execution_count": 15,
   "metadata": {
    "colab": {
     "base_uri": "https://localhost:8080/",
     "height": 35
    },
    "id": "hQWSSazwE9DX",
    "outputId": "51383094-5902-4451-8022-7f7eab19ad63"
   },
   "outputs": [
    {
     "data": {
      "text/plain": [
       "'IPL is a cricket league'"
      ]
     },
     "execution_count": 15,
     "metadata": {},
     "output_type": "execute_result"
    }
   ],
   "source": [
    "chain.run({'length':'short', 'topic': 'india'})"
   ]
  },
  {
   "cell_type": "code",
   "execution_count": null,
   "metadata": {
    "id": "JIZ6WOlEFA_h"
   },
   "outputs": [],
   "source": []
  }
 ],
 "metadata": {
  "colab": {
   "provenance": []
  },
  "kernelspec": {
   "display_name": "Python 3 (ipykernel)",
   "language": "python",
   "name": "python3"
  },
  "language_info": {
   "codemirror_mode": {
    "name": "ipython",
    "version": 3
   },
   "file_extension": ".py",
   "mimetype": "text/x-python",
   "name": "python",
   "nbconvert_exporter": "python",
   "pygments_lexer": "ipython3",
   "version": "3.11.4"
  }
 },
 "nbformat": 4,
 "nbformat_minor": 1
}
